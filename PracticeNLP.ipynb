{
 "cells": [
  {
   "cell_type": "code",
   "execution_count": 14,
   "metadata": {},
   "outputs": [],
   "source": [
    "text = [\"The amount of pollution is increasing day by day\",\n",
    "\"The concert was just great\", \"I love to see Gordon Ramsay cook\", \"Google is introducing a new technology\",\n",
    "\"AI Robots are examples of great technology present today\", \"All of us were singing in the concert\",\n",
    "\"We have launch campaigns to stop pullution and global warming\"]"
   ]
  },
  {
   "cell_type": "code",
   "execution_count": 15,
   "metadata": {},
   "outputs": [
    {
     "data": {
      "text/plain": [
       "['The amount of pollution is increasing day by day',\n",
       " 'The concert was just great',\n",
       " 'I love to see Gordon Ramsay cook',\n",
       " 'Google is introducing a new technology',\n",
       " 'AI Robots are examples of great technology present today',\n",
       " 'All of us were singing in the concert',\n",
       " 'We have launch campaigns to stop pullution and global warming']"
      ]
     },
     "execution_count": 15,
     "metadata": {},
     "output_type": "execute_result"
    }
   ],
   "source": [
    "text"
   ]
  },
  {
   "cell_type": "code",
   "execution_count": 16,
   "metadata": {},
   "outputs": [],
   "source": [
    "from sklearn.feature_extraction.text import TfidfVectorizer\n",
    "tfidf=TfidfVectorizer()"
   ]
  },
  {
   "cell_type": "code",
   "execution_count": 17,
   "metadata": {},
   "outputs": [],
   "source": [
    "text=[x.lower() for x in text]"
   ]
  },
  {
   "cell_type": "code",
   "execution_count": 18,
   "metadata": {},
   "outputs": [
    {
     "data": {
      "text/plain": [
       "['the amount of pollution is increasing day by day',\n",
       " 'the concert was just great',\n",
       " 'i love to see gordon ramsay cook',\n",
       " 'google is introducing a new technology',\n",
       " 'ai robots are examples of great technology present today',\n",
       " 'all of us were singing in the concert',\n",
       " 'we have launch campaigns to stop pullution and global warming']"
      ]
     },
     "execution_count": 18,
     "metadata": {},
     "output_type": "execute_result"
    }
   ],
   "source": [
    "text"
   ]
  },
  {
   "cell_type": "code",
   "execution_count": 22,
   "metadata": {},
   "outputs": [],
   "source": [
    "X=tfidf.fit_transform(text)"
   ]
  },
  {
   "cell_type": "code",
   "execution_count": 23,
   "metadata": {},
   "outputs": [
    {
     "data": {
      "text/plain": [
       "<7x42 sparse matrix of type '<class 'numpy.float64'>'\n",
       "\twith 51 stored elements in Compressed Sparse Row format>"
      ]
     },
     "execution_count": 23,
     "metadata": {},
     "output_type": "execute_result"
    }
   ],
   "source": [
    "X"
   ]
  },
  {
   "cell_type": "code",
   "execution_count": 33,
   "metadata": {},
   "outputs": [],
   "source": [
    "words=tfidf.get_feature_names()"
   ]
  },
  {
   "cell_type": "code",
   "execution_count": 25,
   "metadata": {},
   "outputs": [
    {
     "data": {
      "text/plain": [
       "array([0.        , 0.        , 0.3211484 , 0.        , 0.        ,\n",
       "       0.3211484 , 0.        , 0.        , 0.        , 0.64229679,\n",
       "       0.        , 0.        , 0.        , 0.        , 0.        ,\n",
       "       0.        , 0.        , 0.3211484 , 0.        , 0.26658075,\n",
       "       0.        , 0.        , 0.        , 0.        , 0.22786439,\n",
       "       0.3211484 , 0.        , 0.        , 0.        , 0.        ,\n",
       "       0.        , 0.        , 0.        , 0.        , 0.22786439,\n",
       "       0.        , 0.        , 0.        , 0.        , 0.        ,\n",
       "       0.        , 0.        ])"
      ]
     },
     "execution_count": 25,
     "metadata": {},
     "output_type": "execute_result"
    }
   ],
   "source": [
    "#Document 0\n",
    "X.toarray()[0]"
   ]
  },
  {
   "cell_type": "code",
   "execution_count": 26,
   "metadata": {},
   "outputs": [
    {
     "data": {
      "text/plain": [
       "1.414213562373095"
      ]
     },
     "execution_count": 26,
     "metadata": {},
     "output_type": "execute_result"
    }
   ],
   "source": [
    "from scipy.spatial.distance import euclidean\n",
    "euclidean(X.toarray()[2],X.toarray()[1])"
   ]
  },
  {
   "cell_type": "code",
   "execution_count": 27,
   "metadata": {},
   "outputs": [],
   "source": [
    "from sklearn.decomposition import TruncatedSVD,NMF,PCA"
   ]
  },
  {
   "cell_type": "code",
   "execution_count": 28,
   "metadata": {},
   "outputs": [],
   "source": [
    "#latent semantic analysis\n",
    "lsa=TruncatedSVD(n_components=4,n_iter=100)"
   ]
  },
  {
   "cell_type": "code",
   "execution_count": 29,
   "metadata": {},
   "outputs": [
    {
     "data": {
      "text/plain": [
       "TruncatedSVD(algorithm='randomized', n_components=4, n_iter=100,\n",
       "             random_state=None, tol=0.0)"
      ]
     },
     "execution_count": 29,
     "metadata": {},
     "output_type": "execute_result"
    }
   ],
   "source": [
    "lsa.fit(X)"
   ]
  },
  {
   "cell_type": "code",
   "execution_count": 32,
   "metadata": {},
   "outputs": [
    {
     "data": {
      "text/plain": [
       "array([1.24191973e-01, 1.78240252e-01, 1.14460798e-01, 6.93218228e-17,\n",
       "       1.24191973e-01, 1.14460798e-01, 6.93218228e-17, 3.44988739e-01,\n",
       "       1.01917523e-16, 2.28921595e-01, 1.24191973e-01, 6.93218228e-17,\n",
       "       9.72770950e-02, 1.01917523e-16, 3.00124026e-01, 6.93218228e-17,\n",
       "       1.78240252e-01, 1.14460798e-01, 9.72770950e-02, 1.75760635e-01,\n",
       "       2.37365829e-01, 6.93218228e-17, 1.01917523e-16, 9.72770950e-02,\n",
       "       2.95798061e-01, 1.14460798e-01, 1.24191973e-01, 6.93218228e-17,\n",
       "       1.01917523e-16, 1.24191973e-01, 1.01917523e-16, 1.78240252e-01,\n",
       "       6.93218228e-17, 1.83838346e-01, 3.76098295e-01, 1.42143363e-16,\n",
       "       1.24191973e-01, 1.78240252e-01, 6.93218228e-17, 2.37365829e-01,\n",
       "       6.93218228e-17, 1.78240252e-01])"
      ]
     },
     "execution_count": 32,
     "metadata": {},
     "output_type": "execute_result"
    }
   ],
   "source": [
    "#4 topics\n",
    "lsa.components_[0]"
   ]
  },
  {
   "cell_type": "code",
   "execution_count": 35,
   "metadata": {},
   "outputs": [],
   "source": [
    "for i,y in enumerate(lsa.components_):\n",
    "    comp_words=zip(words,y)\n",
    "    sorted_comp_words=sorted(comp_words,key=lambda x:x[1],reverse=True)\n",
    "    "
   ]
  },
  {
   "cell_type": "code",
   "execution_count": null,
   "metadata": {},
   "outputs": [],
   "source": []
  }
 ],
 "metadata": {
  "kernelspec": {
   "display_name": "Python 3",
   "language": "python",
   "name": "python3"
  },
  "language_info": {
   "codemirror_mode": {
    "name": "ipython",
    "version": 3
   },
   "file_extension": ".py",
   "mimetype": "text/x-python",
   "name": "python",
   "nbconvert_exporter": "python",
   "pygments_lexer": "ipython3",
   "version": "3.7.1"
  }
 },
 "nbformat": 4,
 "nbformat_minor": 2
}
